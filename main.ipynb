{
 "cells": [
  {
   "cell_type": "code",
   "execution_count": null,
   "metadata": {},
   "outputs": [],
   "source": [
    "!pip install torch transformers"
   ]
  },
  {
   "cell_type": "code",
   "execution_count": null,
   "metadata": {},
   "outputs": [],
   "source": [
    "import torch\n",
    "from transformers import MllamaForConditionalGeneration, AutoProcessor\n",
    "\n",
    "# Carregar o modelo e o processador\n",
    "model_id = \"meta-llama/Llama-3.2-90B-Vision\"\n",
    "model = MllamaForConditionalGeneration.from_pretrained(model_id)\n",
    "processor = AutoProcessor.from_pretrained(model_id)\n",
    "\n",
    "# Carregar uma imagem (substitua pela sua própria imagem)\n",
    "from PIL import Image\n",
    "image = Image.open(\"caminho/para/sua/imagem.jpg\")\n",
    "\n",
    "# Definir um prompt\n",
    "prompt = \"<|image|><|begin_of_text|>Descreva a imagem\"\n",
    "\n",
    "# Processar a entrada\n",
    "inputs = processor(image, prompt, return_tensors=\"pt\").to(model.device)\n",
    "\n",
    "# Gerar a saída\n",
    "output = model.generate(**inputs, max_new_tokens=30)\n",
    "\n",
    "# Decodificar e imprimir a saída\n",
    "print(processor.decode(output[0]))"
   ]
  }
 ],
 "metadata": {
  "kernelspec": {
   "display_name": ".venv",
   "language": "python",
   "name": "python3"
  },
  "language_info": {
   "codemirror_mode": {
    "name": "ipython",
    "version": 3
   },
   "file_extension": ".py",
   "mimetype": "text/x-python",
   "name": "python",
   "nbconvert_exporter": "python",
   "pygments_lexer": "ipython3",
   "version": "3.10.12"
  }
 },
 "nbformat": 4,
 "nbformat_minor": 2
}
